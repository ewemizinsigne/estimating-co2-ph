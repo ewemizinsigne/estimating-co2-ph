{
 "cells": [
  {
   "cell_type": "code",
   "execution_count": 31,
   "metadata": {},
   "outputs": [],
   "source": [
    "import pandas as pd\n",
    "import numpy as np\n",
    "import os\n",
    "import geoio"
   ]
  },
  {
   "cell_type": "code",
   "execution_count": 32,
   "metadata": {
    "scrolled": true
   },
   "outputs": [
    {
     "data": {
      "text/html": [
       "<div>\n",
       "<style scoped>\n",
       "    .dataframe tbody tr th:only-of-type {\n",
       "        vertical-align: middle;\n",
       "    }\n",
       "\n",
       "    .dataframe tbody tr th {\n",
       "        vertical-align: top;\n",
       "    }\n",
       "\n",
       "    .dataframe thead th {\n",
       "        text-align: right;\n",
       "    }\n",
       "</style>\n",
       "<table border=\"1\" class=\"dataframe\">\n",
       "  <thead>\n",
       "    <tr style=\"text-align: right;\">\n",
       "      <th></th>\n",
       "      <th>lon</th>\n",
       "      <th>lat</th>\n",
       "      <th>emission</th>\n",
       "      <th>filename</th>\n",
       "    </tr>\n",
       "  </thead>\n",
       "  <tbody>\n",
       "    <tr>\n",
       "      <th>0</th>\n",
       "      <td>121.087500</td>\n",
       "      <td>18.612500</td>\n",
       "      <td>7.467103</td>\n",
       "      <td>18.6125_121.0875.jpg</td>\n",
       "    </tr>\n",
       "    <tr>\n",
       "      <th>1</th>\n",
       "      <td>120.779167</td>\n",
       "      <td>18.604167</td>\n",
       "      <td>6.376585</td>\n",
       "      <td>18.604166666666664_120.77916666666668.jpg</td>\n",
       "    </tr>\n",
       "    <tr>\n",
       "      <th>2</th>\n",
       "      <td>121.054167</td>\n",
       "      <td>18.604167</td>\n",
       "      <td>7.586672</td>\n",
       "      <td>18.604166666666664_121.05416666666667.jpg</td>\n",
       "    </tr>\n",
       "    <tr>\n",
       "      <th>3</th>\n",
       "      <td>121.062500</td>\n",
       "      <td>18.604167</td>\n",
       "      <td>8.018453</td>\n",
       "      <td>18.604166666666664_121.0625.jpg</td>\n",
       "    </tr>\n",
       "    <tr>\n",
       "      <th>4</th>\n",
       "      <td>121.070833</td>\n",
       "      <td>18.604167</td>\n",
       "      <td>7.548463</td>\n",
       "      <td>18.604166666666664_121.07083333333334.jpg</td>\n",
       "    </tr>\n",
       "  </tbody>\n",
       "</table>\n",
       "</div>"
      ],
      "text/plain": [
       "          lon        lat  emission                                   filename\n",
       "0  121.087500  18.612500  7.467103                       18.6125_121.0875.jpg\n",
       "1  120.779167  18.604167  6.376585  18.604166666666664_120.77916666666668.jpg\n",
       "2  121.054167  18.604167  7.586672  18.604166666666664_121.05416666666667.jpg\n",
       "3  121.062500  18.604167  8.018453            18.604166666666664_121.0625.jpg\n",
       "4  121.070833  18.604167  7.548463  18.604166666666664_121.07083333333334.jpg"
      ]
     },
     "execution_count": 32,
     "metadata": {},
     "output_type": "execute_result"
    }
   ],
   "source": [
    "data = pd.read_csv('../data/data.csv')\n",
    "\n",
    "df_clusters = data\n",
    "df_clusters.head()"
   ]
  },
  {
   "cell_type": "code",
   "execution_count": 33,
   "metadata": {
    "scrolled": true
   },
   "outputs": [],
   "source": [
    "#img = geoio.GeoImage('../../data/ntl.tif')\n",
    "img = geoio.GeoImage('../data/odiac2019_1km_excl_intl_1812.tif') ###THIS SHOULD BE THE NIGHTLIGHTS FILE, MAKE SURE TO CHANGE\n",
    "\n",
    "# pass lon then lat\n",
    "xPixel, yPixel = img.proj_to_raster(18.612500, 121.087500)"
   ]
  },
  {
   "cell_type": "code",
   "execution_count": 34,
   "metadata": {},
   "outputs": [
    {
     "data": {
      "text/plain": [
       "(-9932.499920536, -11060.499911512)"
      ]
     },
     "execution_count": 34,
     "metadata": {},
     "output_type": "execute_result"
    }
   ],
   "source": [
    "xPixel, yPixel"
   ]
  },
  {
   "cell_type": "code",
   "execution_count": 35,
   "metadata": {},
   "outputs": [
    {
     "data": {
      "text/plain": [
       "(18000, 28800)"
      ]
     },
     "execution_count": 35,
     "metadata": {},
     "output_type": "execute_result"
    }
   ],
   "source": [
    "im_array = np.squeeze(img.get_data())\n",
    "im_array.shape"
   ]
  },
  {
   "cell_type": "code",
   "execution_count": 36,
   "metadata": {},
   "outputs": [
    {
     "data": {
      "text/plain": [
       "0.0"
      ]
     },
     "execution_count": 36,
     "metadata": {},
     "output_type": "execute_result"
    }
   ],
   "source": [
    "im_array[int(yPixel),int(xPixel)] # this is the nightlight value at the given coordinate"
   ]
  },
  {
   "cell_type": "code",
   "execution_count": 37,
   "metadata": {},
   "outputs": [],
   "source": [
    "import math\n",
    "\n",
    "def create_space(lat, lon):\n",
    "    # these are pulled from the paper to make the 10km^2 area\n",
    "    return lat - (180/math.pi)*(5000/6378137), lon - (180/math.pi)*(5000/6378137)/math.cos(lat), \\\n",
    "            lat + (180/math.pi)*(5000/6378137), lon + (180/math.pi)*(5000/6378137)/math.cos(lat)"
   ]
  },
  {
   "cell_type": "code",
   "execution_count": 38,
   "metadata": {},
   "outputs": [],
   "source": [
    "cluster_nightlights = []\n",
    "for i,r in df_clusters.iterrows():\n",
    "    min_lat, min_lon, max_lat, max_lon = create_space(r.lat, r.lon)\n",
    "    xminPixel, yminPixel = img.proj_to_raster(min_lon, min_lat)\n",
    "    xmaxPixel, ymaxPixel = img.proj_to_raster(max_lon, max_lat)\n",
    "    \n",
    "    xminPixel, xmaxPixel = min(xminPixel, xmaxPixel), max(xminPixel, xmaxPixel)\n",
    "    yminPixel, ymaxPixel = min(yminPixel, ymaxPixel), max(yminPixel, ymaxPixel)\n",
    "    \n",
    "    xminPixel, yminPixel, xmaxPixel, ymaxPixel = int(xminPixel), int(yminPixel), int(xmaxPixel), int(ymaxPixel)\n",
    "    cluster_nightlights.append(im_array[yminPixel:ymaxPixel,xminPixel:xmaxPixel].mean())"
   ]
  },
  {
   "cell_type": "code",
   "execution_count": 39,
   "metadata": {},
   "outputs": [
    {
     "data": {
      "text/html": [
       "<div>\n",
       "<style scoped>\n",
       "    .dataframe tbody tr th:only-of-type {\n",
       "        vertical-align: middle;\n",
       "    }\n",
       "\n",
       "    .dataframe tbody tr th {\n",
       "        vertical-align: top;\n",
       "    }\n",
       "\n",
       "    .dataframe thead th {\n",
       "        text-align: right;\n",
       "    }\n",
       "</style>\n",
       "<table border=\"1\" class=\"dataframe\">\n",
       "  <thead>\n",
       "    <tr style=\"text-align: right;\">\n",
       "      <th></th>\n",
       "      <th>lon</th>\n",
       "      <th>lat</th>\n",
       "      <th>emission</th>\n",
       "      <th>filename</th>\n",
       "      <th>nightlights</th>\n",
       "    </tr>\n",
       "  </thead>\n",
       "  <tbody>\n",
       "    <tr>\n",
       "      <th>0</th>\n",
       "      <td>121.087500</td>\n",
       "      <td>18.612500</td>\n",
       "      <td>7.467103</td>\n",
       "      <td>18.6125_121.0875.jpg</td>\n",
       "      <td>0.051440</td>\n",
       "    </tr>\n",
       "    <tr>\n",
       "      <th>1</th>\n",
       "      <td>120.779167</td>\n",
       "      <td>18.604167</td>\n",
       "      <td>6.376585</td>\n",
       "      <td>18.604166666666664_120.77916666666668.jpg</td>\n",
       "      <td>0.030283</td>\n",
       "    </tr>\n",
       "    <tr>\n",
       "      <th>2</th>\n",
       "      <td>121.054167</td>\n",
       "      <td>18.604167</td>\n",
       "      <td>7.586672</td>\n",
       "      <td>18.604166666666664_121.05416666666667.jpg</td>\n",
       "      <td>0.050283</td>\n",
       "    </tr>\n",
       "    <tr>\n",
       "      <th>3</th>\n",
       "      <td>121.062500</td>\n",
       "      <td>18.604167</td>\n",
       "      <td>8.018453</td>\n",
       "      <td>18.604166666666664_121.0625.jpg</td>\n",
       "      <td>0.050607</td>\n",
       "    </tr>\n",
       "    <tr>\n",
       "      <th>4</th>\n",
       "      <td>121.070833</td>\n",
       "      <td>18.604167</td>\n",
       "      <td>7.548463</td>\n",
       "      <td>18.604166666666664_121.07083333333334.jpg</td>\n",
       "      <td>0.051067</td>\n",
       "    </tr>\n",
       "  </tbody>\n",
       "</table>\n",
       "</div>"
      ],
      "text/plain": [
       "          lon        lat  emission                                   filename  \\\n",
       "0  121.087500  18.612500  7.467103                       18.6125_121.0875.jpg   \n",
       "1  120.779167  18.604167  6.376585  18.604166666666664_120.77916666666668.jpg   \n",
       "2  121.054167  18.604167  7.586672  18.604166666666664_121.05416666666667.jpg   \n",
       "3  121.062500  18.604167  8.018453            18.604166666666664_121.0625.jpg   \n",
       "4  121.070833  18.604167  7.548463  18.604166666666664_121.07083333333334.jpg   \n",
       "\n",
       "   nightlights  \n",
       "0     0.051440  \n",
       "1     0.030283  \n",
       "2     0.050283  \n",
       "3     0.050607  \n",
       "4     0.051067  "
      ]
     },
     "execution_count": 39,
     "metadata": {},
     "output_type": "execute_result"
    }
   ],
   "source": [
    "df_clusters['nightlights'] = cluster_nightlights\n",
    "df_clusters.head()"
   ]
  },
  {
   "cell_type": "code",
   "execution_count": 40,
   "metadata": {},
   "outputs": [],
   "source": [
    "df_clusters.to_csv ('../data/PH_data.csv', index = False, header=True)"
   ]
  },
  {
   "cell_type": "code",
   "execution_count": 41,
   "metadata": {},
   "outputs": [],
   "source": [
    "test = df_clusters"
   ]
  },
  {
   "cell_type": "code",
   "execution_count": 44,
   "metadata": {},
   "outputs": [],
   "source": [
    "from sklearn.mixture import GaussianMixture as GMM\n",
    "X = test['nightlights'].values.reshape(-1,1)\n",
    "gmm = GMM(n_components=3).fit(X)\n",
    "labels = gmm.predict(test['nightlights'].values.reshape(-1,1))"
   ]
  },
  {
   "cell_type": "code",
   "execution_count": 45,
   "metadata": {},
   "outputs": [
    {
     "data": {
      "text/plain": [
       "(0.5825702992094466, 0.09060092064445112, 0.3268287801461023)"
      ]
     },
     "execution_count": 45,
     "metadata": {},
     "output_type": "execute_result"
    }
   ],
   "source": [
    "(labels==0).mean(), (labels==1).mean(), (labels==2).mean()"
   ]
  },
  {
   "cell_type": "code",
   "execution_count": 24,
   "metadata": {},
   "outputs": [
    {
     "data": {
      "text/plain": [
       "(29.603918075561523, 3439.44189453125, 1809.2613525390625)"
      ]
     },
     "execution_count": 24,
     "metadata": {},
     "output_type": "execute_result"
    }
   ],
   "source": [
    "# these are the cutoff for the labels identified by the Guassian Mixture Model\n",
    "label0_max = test['nightlights'][labels==0].max()\n",
    "label1_max = test['nightlights'][labels==1].max()\n",
    "label2_max = test['nightlights'][labels==2].max()\n",
    "\n",
    "label0_max, label1_max, label2_max"
   ]
  },
  {
   "cell_type": "code",
   "execution_count": 25,
   "metadata": {},
   "outputs": [],
   "source": [
    "# I am going to hand reassign these to have better representation among all three classes\n",
    "# these are not ideal distributions obviously but the model should still be able to learn\n",
    "# something like a quantile cut might work better and be less arbitrary, but for reproducability \n",
    "# purposes I'll stick to the GMM-based approach\n",
    "label0_max = 0.05\n",
    "label1_max = 5\n",
    "label2_max = 70"
   ]
  },
  {
   "cell_type": "code",
   "execution_count": 26,
   "metadata": {},
   "outputs": [
    {
     "name": "stdout",
     "output_type": "stream",
     "text": [
      "0.00020014009806864806\n",
      "0.329743320324227\n",
      "0.6055488842189533\n"
     ]
    }
   ],
   "source": [
    "def query_df(df, lower, upper):\n",
    "    return df[((lower <= df['nightlights']) & (df['nightlights'] < upper))]\n",
    "\n",
    "print(len(query_df(test, 0, label0_max)) / len(test))\n",
    "print(len(query_df(test, label0_max, label1_max)) / len(test))\n",
    "print(len(query_df(test, label1_max, label2_max)) / len(test))"
   ]
  },
  {
   "cell_type": "code",
   "execution_count": 27,
   "metadata": {},
   "outputs": [
    {
     "name": "stderr",
     "output_type": "stream",
     "text": [
      "C:\\Users\\PSHSWVC-CID\\Documents\\anaconda3\\envs\\earth-analytics-python\\lib\\site-packages\\pandas\\core\\indexing.py:1637: SettingWithCopyWarning: \n",
      "A value is trying to be set on a copy of a slice from a DataFrame\n",
      "\n",
      "See the caveats in the documentation: https://pandas.pydata.org/pandas-docs/stable/user_guide/indexing.html#returning-a-view-versus-a-copy\n",
      "  self._setitem_single_block(indexer, value, name)\n",
      "C:\\Users\\PSHSWVC-CID\\Documents\\anaconda3\\envs\\earth-analytics-python\\lib\\site-packages\\pandas\\core\\indexing.py:1637: SettingWithCopyWarning: \n",
      "A value is trying to be set on a copy of a slice from a DataFrame\n",
      "\n",
      "See the caveats in the documentation: https://pandas.pydata.org/pandas-docs/stable/user_guide/indexing.html#returning-a-view-versus-a-copy\n",
      "  self._setitem_single_block(indexer, value, name)\n",
      "C:\\Users\\PSHSWVC-CID\\Documents\\anaconda3\\envs\\earth-analytics-python\\lib\\site-packages\\pandas\\core\\indexing.py:1637: SettingWithCopyWarning: \n",
      "A value is trying to be set on a copy of a slice from a DataFrame\n",
      "\n",
      "See the caveats in the documentation: https://pandas.pydata.org/pandas-docs/stable/user_guide/indexing.html#returning-a-view-versus-a-copy\n",
      "  self._setitem_single_block(indexer, value, name)\n"
     ]
    }
   ],
   "source": [
    "def create_nightlights_bin(df, cutoffs):\n",
    "    assert len(cutoffs) >= 2, print('need at least 2 bins')\n",
    "    cutoffs = sorted(cutoffs, reverse=True)\n",
    "    labels = list(range(len(cutoffs)))[::-1]\n",
    "    df['nightlights_bin'] = len(cutoffs)\n",
    "    for cutoff, label in zip(cutoffs, labels):\n",
    "        df['nightlights_bin'].loc[df['nightlights'] <= cutoff] = label\n",
    "\n",
    "df_download = test.copy()\n",
    "create_nightlights_bin(df_download, cutoffs=[label0_max, label1_max, label2_max])"
   ]
  },
  {
   "cell_type": "code",
   "execution_count": 28,
   "metadata": {},
   "outputs": [
    {
     "data": {
      "text/plain": [
       "(0.00020014009806864806, 0.329743320324227, 0.6055488842189533)"
      ]
     },
     "execution_count": 28,
     "metadata": {},
     "output_type": "execute_result"
    }
   ],
   "source": [
    "# these should match above\n",
    "(df_download['nightlights_bin']==0).mean(), (df_download['nightlights_bin']==1).mean(), (df_download['nightlights_bin']==2).mean()"
   ]
  },
  {
   "cell_type": "code",
   "execution_count": 29,
   "metadata": {},
   "outputs": [
    {
     "data": {
      "text/html": [
       "<div>\n",
       "<style scoped>\n",
       "    .dataframe tbody tr th:only-of-type {\n",
       "        vertical-align: middle;\n",
       "    }\n",
       "\n",
       "    .dataframe tbody tr th {\n",
       "        vertical-align: top;\n",
       "    }\n",
       "\n",
       "    .dataframe thead th {\n",
       "        text-align: right;\n",
       "    }\n",
       "</style>\n",
       "<table border=\"1\" class=\"dataframe\">\n",
       "  <thead>\n",
       "    <tr style=\"text-align: right;\">\n",
       "      <th></th>\n",
       "      <th>lon</th>\n",
       "      <th>lat</th>\n",
       "      <th>emission</th>\n",
       "      <th>filename</th>\n",
       "      <th>nightlights</th>\n",
       "      <th>nightlights_bin</th>\n",
       "    </tr>\n",
       "  </thead>\n",
       "  <tbody>\n",
       "    <tr>\n",
       "      <th>0</th>\n",
       "      <td>121.087500</td>\n",
       "      <td>18.612500</td>\n",
       "      <td>7.467103</td>\n",
       "      <td>18.6125_121.0875.jpg</td>\n",
       "      <td>0.577604</td>\n",
       "      <td>1</td>\n",
       "    </tr>\n",
       "    <tr>\n",
       "      <th>1</th>\n",
       "      <td>120.779167</td>\n",
       "      <td>18.604167</td>\n",
       "      <td>6.376585</td>\n",
       "      <td>18.604166666666664_120.77916666666668.jpg</td>\n",
       "      <td>0.566483</td>\n",
       "      <td>1</td>\n",
       "    </tr>\n",
       "    <tr>\n",
       "      <th>2</th>\n",
       "      <td>121.054167</td>\n",
       "      <td>18.604167</td>\n",
       "      <td>7.586672</td>\n",
       "      <td>18.604166666666664_121.05416666666667.jpg</td>\n",
       "      <td>0.577604</td>\n",
       "      <td>1</td>\n",
       "    </tr>\n",
       "    <tr>\n",
       "      <th>3</th>\n",
       "      <td>121.062500</td>\n",
       "      <td>18.604167</td>\n",
       "      <td>8.018453</td>\n",
       "      <td>18.604166666666664_121.0625.jpg</td>\n",
       "      <td>0.577604</td>\n",
       "      <td>1</td>\n",
       "    </tr>\n",
       "    <tr>\n",
       "      <th>4</th>\n",
       "      <td>121.070833</td>\n",
       "      <td>18.604167</td>\n",
       "      <td>7.548463</td>\n",
       "      <td>18.604166666666664_121.07083333333334.jpg</td>\n",
       "      <td>0.577604</td>\n",
       "      <td>1</td>\n",
       "    </tr>\n",
       "    <tr>\n",
       "      <th>...</th>\n",
       "      <td>...</td>\n",
       "      <td>...</td>\n",
       "      <td>...</td>\n",
       "      <td>...</td>\n",
       "      <td>...</td>\n",
       "      <td>...</td>\n",
       "    </tr>\n",
       "    <tr>\n",
       "      <th>79939</th>\n",
       "      <td>119.770833</td>\n",
       "      <td>5.020833</td>\n",
       "      <td>9.871109</td>\n",
       "      <td>5.020833333333332_119.77083333333331.jpg</td>\n",
       "      <td>1.029708</td>\n",
       "      <td>1</td>\n",
       "    </tr>\n",
       "    <tr>\n",
       "      <th>79940</th>\n",
       "      <td>119.745833</td>\n",
       "      <td>5.012500</td>\n",
       "      <td>8.536774</td>\n",
       "      <td>5.012499999999998_119.74583333333334.jpg</td>\n",
       "      <td>0.933903</td>\n",
       "      <td>1</td>\n",
       "    </tr>\n",
       "    <tr>\n",
       "      <th>79941</th>\n",
       "      <td>119.754167</td>\n",
       "      <td>5.012500</td>\n",
       "      <td>9.345279</td>\n",
       "      <td>5.012499999999998_119.75416666666666.jpg</td>\n",
       "      <td>0.933903</td>\n",
       "      <td>1</td>\n",
       "    </tr>\n",
       "    <tr>\n",
       "      <th>79942</th>\n",
       "      <td>119.762500</td>\n",
       "      <td>5.012500</td>\n",
       "      <td>8.501098</td>\n",
       "      <td>5.012499999999998_119.7625.jpg</td>\n",
       "      <td>0.933903</td>\n",
       "      <td>1</td>\n",
       "    </tr>\n",
       "    <tr>\n",
       "      <th>79943</th>\n",
       "      <td>119.770833</td>\n",
       "      <td>5.012500</td>\n",
       "      <td>7.100991</td>\n",
       "      <td>5.012499999999998_119.77083333333331.jpg</td>\n",
       "      <td>0.933903</td>\n",
       "      <td>1</td>\n",
       "    </tr>\n",
       "  </tbody>\n",
       "</table>\n",
       "<p>79944 rows × 6 columns</p>\n",
       "</div>"
      ],
      "text/plain": [
       "              lon        lat  emission  \\\n",
       "0      121.087500  18.612500  7.467103   \n",
       "1      120.779167  18.604167  6.376585   \n",
       "2      121.054167  18.604167  7.586672   \n",
       "3      121.062500  18.604167  8.018453   \n",
       "4      121.070833  18.604167  7.548463   \n",
       "...           ...        ...       ...   \n",
       "79939  119.770833   5.020833  9.871109   \n",
       "79940  119.745833   5.012500  8.536774   \n",
       "79941  119.754167   5.012500  9.345279   \n",
       "79942  119.762500   5.012500  8.501098   \n",
       "79943  119.770833   5.012500  7.100991   \n",
       "\n",
       "                                        filename  nightlights  nightlights_bin  \n",
       "0                           18.6125_121.0875.jpg     0.577604                1  \n",
       "1      18.604166666666664_120.77916666666668.jpg     0.566483                1  \n",
       "2      18.604166666666664_121.05416666666667.jpg     0.577604                1  \n",
       "3                18.604166666666664_121.0625.jpg     0.577604                1  \n",
       "4      18.604166666666664_121.07083333333334.jpg     0.577604                1  \n",
       "...                                          ...          ...              ...  \n",
       "79939   5.020833333333332_119.77083333333331.jpg     1.029708                1  \n",
       "79940   5.012499999999998_119.74583333333334.jpg     0.933903                1  \n",
       "79941   5.012499999999998_119.75416666666666.jpg     0.933903                1  \n",
       "79942             5.012499999999998_119.7625.jpg     0.933903                1  \n",
       "79943   5.012499999999998_119.77083333333331.jpg     0.933903                1  \n",
       "\n",
       "[79944 rows x 6 columns]"
      ]
     },
     "execution_count": 29,
     "metadata": {},
     "output_type": "execute_result"
    }
   ],
   "source": [
    "df_download['filename'] = data['filename']\n",
    "df_download"
   ]
  },
  {
   "cell_type": "code",
   "execution_count": 30,
   "metadata": {},
   "outputs": [],
   "source": [
    "df_download.to_csv('../data/image_download_locs.csv')"
   ]
  }
 ],
 "metadata": {
  "kernelspec": {
   "display_name": "Python 3",
   "language": "python",
   "name": "python3"
  },
  "language_info": {
   "codemirror_mode": {
    "name": "ipython",
    "version": 3
   },
   "file_extension": ".py",
   "mimetype": "text/x-python",
   "name": "python",
   "nbconvert_exporter": "python",
   "pygments_lexer": "ipython3",
   "version": "3.8.6"
  }
 },
 "nbformat": 4,
 "nbformat_minor": 4
}
