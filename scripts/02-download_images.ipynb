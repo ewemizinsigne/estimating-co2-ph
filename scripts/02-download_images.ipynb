{
 "cells": [
  {
   "cell_type": "code",
   "execution_count": null,
   "metadata": {},
   "outputs": [],
   "source": [
    "import os\n",
    "import pandas as pd\n",
    "\n",
    "import requests\n",
    "from PIL import Image\n",
    "from io import BytesIO"
   ]
  },
  {
   "cell_type": "code",
   "execution_count": null,
   "metadata": {},
   "outputs": [],
   "source": [
    "os.makedirs('../PH_IMAGES_DIR', exist_ok=True)\n",
    "data = pd.read_csv('../data/PH_CO2_geotiff_cropped_filtered.csv')"
   ]
  },
  {
   "cell_type": "code",
   "execution_count": null,
   "metadata": {},
   "outputs": [],
   "source": [
    "def get_static_images(filename, lat, lon):\n",
    "    base_url = 'https://maps.googleapis.com/maps/api/staticmap?'\n",
    "    center = (lat, lon)\n",
    "    zoom = 13\n",
    "    size = (400, 400)\n",
    "    maptype = 'satellite'\n",
    "    key = '<API KEY>' #BLOCK THIS OUT BEFORE YOU UPLOAD TO GITHUB\n",
    "\n",
    "    gsm_url = base_url+'center='+str(center[0])+','+str(center[1])+'&zoom='+str(zoom)+'&size='+str(size[0])+'x'+str(size[1])+'&maptype='+maptype+'&key='+key\n",
    "    response = requests.get(gsm_url)\n",
    "    img = Image.open(BytesIO(response.content))\n",
    "    img.convert(\"RGB\").save(\"../PH_IMAGES_DIR/\"+filename)"
   ]
  },
  {
   "cell_type": "code",
   "execution_count": null,
   "metadata": {},
   "outputs": [],
   "source": [
    "downloaded = os.listdir('../PH_IMAGES_DIR')"
   ]
  },
  {
   "cell_type": "code",
   "execution_count": null,
   "metadata": {},
   "outputs": [],
   "source": [
    "data['filename'] = str(data['y']) + '_' + str(data['x']) + '.jpg'\n",
    "for i in range(len(data)):\n",
    "    data['filename'][i] = str(data['y'][i]) + '_' + str(data['x'][i]) + '.jpg'"
   ]
  },
  {
   "cell_type": "code",
   "execution_count": null,
   "metadata": {},
   "outputs": [],
   "source": [
    "data = data.set_index('filename').drop(downloaded).reset_index()"
   ]
  },
  {
   "cell_type": "code",
   "execution_count": null,
   "metadata": {},
   "outputs": [],
   "source": [
    "#downloads the images\n",
    "\n",
    "for i in range(len(data)):\n",
    "    get_static_images(str(data['y'][i])+'_'+str(data['x'][i])+'.jpg', data['y'][i], data['x'][i])"
   ]
  },
  {
   "cell_type": "code",
   "execution_count": null,
   "metadata": {},
   "outputs": [],
   "source": [
    "data.rename(columns = {'y':'lat', 'x':'lon', 'z':'emission'}, inplace=True)\n",
    "data"
   ]
  },
  {
   "cell_type": "code",
   "execution_count": null,
   "metadata": {},
   "outputs": [],
   "source": [
    "data.to_csv(('../data/data.csv'), index=False)"
   ]
  }
 ],
 "metadata": {
  "kernelspec": {
   "display_name": "Python 3",
   "language": "python",
   "name": "python3"
  },
  "language_info": {
   "codemirror_mode": {
    "name": "ipython",
    "version": 3
   },
   "file_extension": ".py",
   "mimetype": "text/x-python",
   "name": "python",
   "nbconvert_exporter": "python",
   "pygments_lexer": "ipython3",
   "version": "3.8.6"
  }
 },
 "nbformat": 4,
 "nbformat_minor": 4
}
